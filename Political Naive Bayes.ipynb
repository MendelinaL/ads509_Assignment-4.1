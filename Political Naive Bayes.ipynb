{
 "cells": [
  {
   "cell_type": "markdown",
   "metadata": {},
   "source": [
    "## Naive Bayes on Political Text - Mendelina Lopez\n",
    "\n",
    "In this notebook we use Naive Bayes to explore and classify political data. See the `README.md` for full details. You can download the required DB from the shared dropbox or from blackboard"
   ]
  },
  {
   "cell_type": "code",
   "execution_count": 11,
   "metadata": {},
   "outputs": [
    {
     "name": "stderr",
     "output_type": "stream",
     "text": [
      "C:\\Users\\mendi\\Anaconda3\\lib\\site-packages\\pandas\\compat\\_optional.py:138: UserWarning: Pandas requires version '2.7.0' or newer of 'numexpr' (version '2.6.9' currently installed).\n",
      "  warnings.warn(msg, UserWarning)\n"
     ]
    }
   ],
   "source": [
    "import sqlite3\n",
    "import nltk\n",
    "import random\n",
    "import numpy as np\n",
    "from collections import Counter, defaultdict\n",
    "from string import punctuation\n",
    "from nltk.corpus import stopwords\n",
    "import pandas as pd\n",
    "\n",
    "# Feel free to include your text patterns functions\n",
    "#from text_functions_solutions import clean_tokenize, get_patterns\n",
    "\n",
    "# Some punctuation variations\n",
    "punctuation = set(punctuation) # speeds up comparison\n",
    "tw_punct = punctuation - {\"#\"}\n",
    "\n",
    "# Stopwords\n",
    "sw = stopwords.words(\"english\")"
   ]
  },
  {
   "cell_type": "code",
   "execution_count": 33,
   "metadata": {},
   "outputs": [
    {
     "name": "stdout",
     "output_type": "stream",
     "text": [
      "[('conventions',)]\n"
     ]
    }
   ],
   "source": [
    "convention_db = sqlite3.connect(\"2020_Conventions.db\")\n",
    "convention_cur = convention_db.cursor()\n",
    "\n",
    "# I would like to see if there are other tables\n",
    "convention_cur.execute(\"SELECT name FROM sqlite_master WHERE type='table';\")\n",
    "print(convention_cur.fetchall())"
   ]
  },
  {
   "cell_type": "code",
   "execution_count": 34,
   "metadata": {},
   "outputs": [
    {
     "name": "stdout",
     "output_type": "stream",
     "text": [
      "party\n",
      "night\n",
      "speaker\n",
      "speaker_count\n",
      "time\n",
      "text\n",
      "text_len\n",
      "file\n"
     ]
    }
   ],
   "source": [
    "# I would like to view the columns within the table\n",
    "data = convention_cur.execute('''SELECT * FROM conventions''')\n",
    "for column in data.description:\n",
    "    print(column[0])"
   ]
  },
  {
   "cell_type": "markdown",
   "metadata": {},
   "source": [
    "### Part 1: Exploratory Naive Bayes\n",
    "\n",
    "We'll first build a NB model on the convention data itself, as a way to understand what words distinguish between the two parties. This is analogous to what we did in the \"Comparing Groups\" class work. First, pull in the text \n",
    "for each party and prepare it for use in Naive Bayes.  "
   ]
  },
  {
   "cell_type": "code",
   "execution_count": 48,
   "metadata": {},
   "outputs": [],
   "source": [
    "convention_data = []\n",
    "\n",
    "# fill this list up with items that are themselves lists. The \n",
    "# first element in the sublist should be the cleaned and tokenized\n",
    "# text in a single string. The second element should be the party. \n",
    "\n",
    "query_results = convention_cur.execute(\n",
    "                            '''\n",
    "                            SELECT text, party FROM conventions\n",
    "                            ''')\n",
    "\n",
    "for row in query_results :\n",
    "    # store the results in convention_data\n",
    "    cleaned = \"\".join ([ch for ch in row[0] if ch not in punctuation]) # punctuation\n",
    "    cleaned = [item.lower().strip() for item in cleaned.split()] # tokenize on whitespace\n",
    "    cleaned = [item for item in cleaned if item not in sw] # stopwords\n",
    "    convention_data.append(cleaned+list(row[1]))"
   ]
  },
  {
   "cell_type": "markdown",
   "metadata": {},
   "source": [
    "Let's look at some random entries and see if they look right. "
   ]
  },
  {
   "cell_type": "code",
   "execution_count": 49,
   "metadata": {},
   "outputs": [
    {
     "data": {
      "text/plain": [
       "[['may',\n",
       "  'add',\n",
       "  'thanks',\n",
       "  'opportunity',\n",
       "  'serve',\n",
       "  'cochair',\n",
       "  'credentials',\n",
       "  'committee',\n",
       "  'friend',\n",
       "  'jim',\n",
       "  'roosevelt',\n",
       "  'state',\n",
       "  'territorial',\n",
       "  'parties',\n",
       "  'worked',\n",
       "  'diligently',\n",
       "  'unprecedented',\n",
       "  'times',\n",
       "  'make',\n",
       "  'sure',\n",
       "  'delegations',\n",
       "  'reflect',\n",
       "  'great',\n",
       "  'diversity',\n",
       "  'party',\n",
       "  'proud',\n",
       "  'party',\n",
       "  'places',\n",
       "  'priority',\n",
       "  'making',\n",
       "  'sure',\n",
       "  'participants',\n",
       "  'convention',\n",
       "  'highlight',\n",
       "  'core',\n",
       "  'value',\n",
       "  'party',\n",
       "  'ensuring',\n",
       "  'americans',\n",
       "  'regardless',\n",
       "  'sex',\n",
       "  'race',\n",
       "  'age',\n",
       "  'color',\n",
       "  'creed',\n",
       "  'national',\n",
       "  'origin',\n",
       "  'religion',\n",
       "  'economic',\n",
       "  'status',\n",
       "  'sexual',\n",
       "  'orientation',\n",
       "  'gender',\n",
       "  'identity',\n",
       "  'ethnic',\n",
       "  'identity',\n",
       "  'physical',\n",
       "  'disability',\n",
       "  'role',\n",
       "  'important',\n",
       "  'process',\n",
       "  'mr',\n",
       "  'chair',\n",
       "  'pleased',\n",
       "  'report',\n",
       "  'credentials',\n",
       "  'committee',\n",
       "  'report',\n",
       "  'approved',\n",
       "  'committee',\n",
       "  'members',\n",
       "  'delegates',\n",
       "  'fully',\n",
       "  'credentialed',\n",
       "  'D',\n",
       "  'e',\n",
       "  'm',\n",
       "  'o',\n",
       "  'c',\n",
       "  'r',\n",
       "  'a',\n",
       "  't',\n",
       "  'i',\n",
       "  'c'],\n",
       " ['trump',\n",
       "  'admitted',\n",
       "  'he’s',\n",
       "  'trying',\n",
       "  'sabotage',\n",
       "  'post',\n",
       "  'office',\n",
       "  'undermine',\n",
       "  'voting',\n",
       "  'mail',\n",
       "  'we’re',\n",
       "  'going',\n",
       "  'let',\n",
       "  'job',\n",
       "  'make',\n",
       "  'sure',\n",
       "  'everyone',\n",
       "  'vote',\n",
       "  'safely',\n",
       "  'whether',\n",
       "  'person',\n",
       "  'mail',\n",
       "  'job',\n",
       "  'make',\n",
       "  'sure',\n",
       "  'vote',\n",
       "  'D',\n",
       "  'e',\n",
       "  'm',\n",
       "  'o',\n",
       "  'c',\n",
       "  'r',\n",
       "  'a',\n",
       "  't',\n",
       "  'i',\n",
       "  'c'],\n",
       " ['pop',\n",
       "  'told',\n",
       "  'us',\n",
       "  'election',\n",
       "  'would',\n",
       "  'totally',\n",
       "  'different',\n",
       "  'election',\n",
       "  'ever',\n",
       "  'worried',\n",
       "  'would',\n",
       "  'affect',\n",
       "  'kids',\n",
       "  'speaker',\n",
       "  '26',\n",
       "  '014557',\n",
       "  'whether',\n",
       "  'wanted',\n",
       "  'go',\n",
       "  'another',\n",
       "  'campaign',\n",
       "  'scrutinized',\n",
       "  'press',\n",
       "  'D',\n",
       "  'e',\n",
       "  'm',\n",
       "  'o',\n",
       "  'c',\n",
       "  'r',\n",
       "  'a',\n",
       "  't',\n",
       "  'i',\n",
       "  'c'],\n",
       " ['inaudible', '013948', 'D', 'e', 'm', 'o', 'c', 'r', 'a', 't', 'i', 'c'],\n",
       " ['i’m',\n",
       "  'pat',\n",
       "  'lynch',\n",
       "  'president',\n",
       "  'police',\n",
       "  'benevolent',\n",
       "  'association',\n",
       "  'speaking',\n",
       "  'behalf',\n",
       "  '50000',\n",
       "  'active',\n",
       "  'retired',\n",
       "  'new',\n",
       "  'york',\n",
       "  'city',\n",
       "  'police',\n",
       "  'officers',\n",
       "  'proud',\n",
       "  'men',\n",
       "  'women',\n",
       "  'wear',\n",
       "  'shield',\n",
       "  'chest',\n",
       "  'put',\n",
       "  'harm’s',\n",
       "  'way',\n",
       "  'protect',\n",
       "  'city',\n",
       "  'proud',\n",
       "  'endorse',\n",
       "  'president',\n",
       "  'donald',\n",
       "  'j',\n",
       "  'trump',\n",
       "  'reelection',\n",
       "  'stakes',\n",
       "  'never',\n",
       "  'higher',\n",
       "  'like',\n",
       "  'cops',\n",
       "  'across',\n",
       "  'country',\n",
       "  'staring',\n",
       "  'barrel',\n",
       "  'public',\n",
       "  'safety',\n",
       "  'disaster',\n",
       "  '1000',\n",
       "  'people',\n",
       "  'shot',\n",
       "  'new',\n",
       "  'york',\n",
       "  'city',\n",
       "  'far',\n",
       "  'year',\n",
       "  'almost',\n",
       "  '300',\n",
       "  'killed',\n",
       "  'numbers',\n",
       "  'real',\n",
       "  'people',\n",
       "  'R',\n",
       "  'e',\n",
       "  'p',\n",
       "  'u',\n",
       "  'b',\n",
       "  'l',\n",
       "  'i',\n",
       "  'c',\n",
       "  'a',\n",
       "  'n'],\n",
       " ['whatever',\n",
       "  'please',\n",
       "  'vote',\n",
       "  'every',\n",
       "  'vote',\n",
       "  'counts',\n",
       "  'remember',\n",
       "  'D',\n",
       "  'e',\n",
       "  'm',\n",
       "  'o',\n",
       "  'c',\n",
       "  'r',\n",
       "  'a',\n",
       "  't',\n",
       "  'i',\n",
       "  'c'],\n",
       " ['yes', 'D', 'e', 'm', 'o', 'c', 'r', 'a', 't', 'i', 'c'],\n",
       " ['letters',\n",
       "  'harder',\n",
       "  'others',\n",
       "  'used',\n",
       "  'get',\n",
       "  'night',\n",
       "  'go',\n",
       "  'stand',\n",
       "  'front',\n",
       "  'mirror',\n",
       "  'flashlight',\n",
       "  'practice',\n",
       "  'she’d',\n",
       "  'make',\n",
       "  'look',\n",
       "  'eye',\n",
       "  '“look',\n",
       "  'remember',\n",
       "  'joey',\n",
       "  'you’re',\n",
       "  'smartest',\n",
       "  'boy',\n",
       "  'class',\n",
       "  'nobody’s',\n",
       "  'better',\n",
       "  'joey”',\n",
       "  'deal',\n",
       "  'stuttering',\n",
       "  'gave',\n",
       "  'insight',\n",
       "  'people’s',\n",
       "  'pain',\n",
       "  'people’s',\n",
       "  'suffering',\n",
       "  'D',\n",
       "  'e',\n",
       "  'm',\n",
       "  'o',\n",
       "  'c',\n",
       "  'r',\n",
       "  'a',\n",
       "  't',\n",
       "  'i',\n",
       "  'c'],\n",
       " ['good',\n",
       "  'evening',\n",
       "  'name',\n",
       "  'rudy',\n",
       "  'giuliani',\n",
       "  'i’m',\n",
       "  'former',\n",
       "  'mayor',\n",
       "  'new',\n",
       "  'york',\n",
       "  'city',\n",
       "  '2013',\n",
       "  'city',\n",
       "  'elected',\n",
       "  'selfdescribed',\n",
       "  'progressive',\n",
       "  'democrat',\n",
       "  'mayor',\n",
       "  'new',\n",
       "  'york',\n",
       "  'city',\n",
       "  'described',\n",
       "  'america’s',\n",
       "  'crime',\n",
       "  'capital',\n",
       "  'become',\n",
       "  'mid1990s',\n",
       "  'america’s',\n",
       "  'safest',\n",
       "  'large',\n",
       "  'city',\n",
       "  'today',\n",
       "  'city',\n",
       "  'shock',\n",
       "  'murders',\n",
       "  'shootings',\n",
       "  'violent',\n",
       "  'crime',\n",
       "  'increasing',\n",
       "  'percentages',\n",
       "  'unheard',\n",
       "  'past',\n",
       "  'we’re',\n",
       "  'seeing',\n",
       "  'return',\n",
       "  'rioting',\n",
       "  'looting',\n",
       "  'riots',\n",
       "  'democrat',\n",
       "  'mayor',\n",
       "  'like',\n",
       "  'others',\n",
       "  'often',\n",
       "  'prevented',\n",
       "  'police',\n",
       "  'making',\n",
       "  'arrests',\n",
       "  'even',\n",
       "  'arrests',\n",
       "  'made',\n",
       "  'liberal',\n",
       "  'progressive',\n",
       "  'das',\n",
       "  'release',\n",
       "  'rioters',\n",
       "  'disrupt',\n",
       "  'rioting',\n",
       "  'R',\n",
       "  'e',\n",
       "  'p',\n",
       "  'u',\n",
       "  'b',\n",
       "  'l',\n",
       "  'i',\n",
       "  'c',\n",
       "  'a',\n",
       "  'n'],\n",
       " ['time', 'next', 'year', 'D', 'e', 'm', 'o', 'c', 'r', 'a', 't', 'i', 'c']]"
      ]
     },
     "execution_count": 49,
     "metadata": {},
     "output_type": "execute_result"
    }
   ],
   "source": [
    "random.choices(convention_data,k=10)"
   ]
  },
  {
   "cell_type": "markdown",
   "metadata": {},
   "source": [
    "If that looks good, we now need to make our function to turn these into features. In my solution, I wanted to keep the number of features reasonable, so I only used words that occur at least `word_cutoff` times. Here's the code to test that if you want it. "
   ]
  },
  {
   "cell_type": "code",
   "execution_count": 50,
   "metadata": {},
   "outputs": [
    {
     "ename": "ValueError",
     "evalue": "too many values to unpack (expected 2)",
     "output_type": "error",
     "traceback": [
      "\u001b[1;31m---------------------------------------------------------------------------\u001b[0m",
      "\u001b[1;31mValueError\u001b[0m                                Traceback (most recent call last)",
      "\u001b[1;32m<ipython-input-50-8372b46e946b>\u001b[0m in \u001b[0;36m<module>\u001b[1;34m\u001b[0m\n\u001b[0;32m      1\u001b[0m \u001b[0mword_cutoff\u001b[0m \u001b[1;33m=\u001b[0m \u001b[1;36m5\u001b[0m\u001b[1;33m\u001b[0m\u001b[1;33m\u001b[0m\u001b[0m\n\u001b[0;32m      2\u001b[0m \u001b[1;33m\u001b[0m\u001b[0m\n\u001b[1;32m----> 3\u001b[1;33m \u001b[0mtokens\u001b[0m \u001b[1;33m=\u001b[0m \u001b[1;33m[\u001b[0m\u001b[0mw\u001b[0m \u001b[1;32mfor\u001b[0m \u001b[0mt\u001b[0m\u001b[1;33m,\u001b[0m \u001b[0mp\u001b[0m \u001b[1;32min\u001b[0m \u001b[0mconvention_data\u001b[0m \u001b[1;32mfor\u001b[0m \u001b[0mw\u001b[0m \u001b[1;32min\u001b[0m \u001b[0mt\u001b[0m\u001b[1;33m.\u001b[0m\u001b[0msplit\u001b[0m\u001b[1;33m(\u001b[0m\u001b[1;33m)\u001b[0m\u001b[1;33m]\u001b[0m\u001b[1;33m\u001b[0m\u001b[1;33m\u001b[0m\u001b[0m\n\u001b[0m\u001b[0;32m      4\u001b[0m \u001b[1;33m\u001b[0m\u001b[0m\n\u001b[0;32m      5\u001b[0m \u001b[0mword_dist\u001b[0m \u001b[1;33m=\u001b[0m \u001b[0mnltk\u001b[0m\u001b[1;33m.\u001b[0m\u001b[0mFreqDist\u001b[0m\u001b[1;33m(\u001b[0m\u001b[0mtokens\u001b[0m\u001b[1;33m)\u001b[0m\u001b[1;33m\u001b[0m\u001b[1;33m\u001b[0m\u001b[0m\n",
      "\u001b[1;32m<ipython-input-50-8372b46e946b>\u001b[0m in \u001b[0;36m<listcomp>\u001b[1;34m(.0)\u001b[0m\n\u001b[0;32m      1\u001b[0m \u001b[0mword_cutoff\u001b[0m \u001b[1;33m=\u001b[0m \u001b[1;36m5\u001b[0m\u001b[1;33m\u001b[0m\u001b[1;33m\u001b[0m\u001b[0m\n\u001b[0;32m      2\u001b[0m \u001b[1;33m\u001b[0m\u001b[0m\n\u001b[1;32m----> 3\u001b[1;33m \u001b[0mtokens\u001b[0m \u001b[1;33m=\u001b[0m \u001b[1;33m[\u001b[0m\u001b[0mw\u001b[0m \u001b[1;32mfor\u001b[0m \u001b[0mt\u001b[0m\u001b[1;33m,\u001b[0m \u001b[0mp\u001b[0m \u001b[1;32min\u001b[0m \u001b[0mconvention_data\u001b[0m \u001b[1;32mfor\u001b[0m \u001b[0mw\u001b[0m \u001b[1;32min\u001b[0m \u001b[0mt\u001b[0m\u001b[1;33m.\u001b[0m\u001b[0msplit\u001b[0m\u001b[1;33m(\u001b[0m\u001b[1;33m)\u001b[0m\u001b[1;33m]\u001b[0m\u001b[1;33m\u001b[0m\u001b[1;33m\u001b[0m\u001b[0m\n\u001b[0m\u001b[0;32m      4\u001b[0m \u001b[1;33m\u001b[0m\u001b[0m\n\u001b[0;32m      5\u001b[0m \u001b[0mword_dist\u001b[0m \u001b[1;33m=\u001b[0m \u001b[0mnltk\u001b[0m\u001b[1;33m.\u001b[0m\u001b[0mFreqDist\u001b[0m\u001b[1;33m(\u001b[0m\u001b[0mtokens\u001b[0m\u001b[1;33m)\u001b[0m\u001b[1;33m\u001b[0m\u001b[1;33m\u001b[0m\u001b[0m\n",
      "\u001b[1;31mValueError\u001b[0m: too many values to unpack (expected 2)"
     ]
    }
   ],
   "source": [
    "word_cutoff = 5\n",
    "\n",
    "tokens = [w for t, p in convention_data for w in t.split()]\n",
    "\n",
    "word_dist = nltk.FreqDist(tokens)\n",
    "\n",
    "feature_words = set()\n",
    "\n",
    "for word, count in word_dist.items() :\n",
    "    if count > word_cutoff :\n",
    "        feature_words.add(word)\n",
    "        \n",
    "print(f\"With a word cutoff of {word_cutoff}, we have {len(feature_words)} as features in the model.\")"
   ]
  },
  {
   "cell_type": "code",
   "execution_count": null,
   "metadata": {},
   "outputs": [],
   "source": [
    "def conv_features(text,fw) :\n",
    "    \"\"\"Given some text, this returns a dictionary holding the\n",
    "       feature words.\n",
    "       \n",
    "       Args: \n",
    "            * text: a piece of text in a continuous string. Assumes\n",
    "            text has been cleaned and case folded.\n",
    "            * fw: the *feature words* that we're considering. A word \n",
    "            in `text` must be in fw in order to be returned. This \n",
    "            prevents us from considering very rarely occurring words.\n",
    "        \n",
    "       Returns: \n",
    "            A dictionary with the words in `text` that appear in `fw`. \n",
    "            Words are only counted once. \n",
    "            If `text` were \"quick quick brown fox\" and `fw` = {'quick','fox','jumps'},\n",
    "            then this would return a dictionary of \n",
    "            {'quick' : True,\n",
    "             'fox' :    True}\n",
    "        \n",
    "    \"\"\"\n",
    "    \n",
    "    # Your code here\n",
    "    \n",
    "    ret_dict = dict()\n",
    "    \n",
    "    return(ret_dict)"
   ]
  },
  {
   "cell_type": "code",
   "execution_count": null,
   "metadata": {},
   "outputs": [],
   "source": [
    "assert(len(feature_words)>0)\n",
    "assert(conv_features(\"donald is the president\",feature_words)==\n",
    "       {'donald':True,'president':True})\n",
    "assert(conv_features(\"people are american in america\",feature_words)==\n",
    "                     {'america':True,'american':True,\"people\":True})"
   ]
  },
  {
   "cell_type": "markdown",
   "metadata": {},
   "source": [
    "Now we'll build our feature set. Out of curiosity I did a train/test split to see how accurate the classifier was, but we don't strictly need to since this analysis is exploratory. "
   ]
  },
  {
   "cell_type": "code",
   "execution_count": null,
   "metadata": {},
   "outputs": [],
   "source": [
    "featuresets = [(conv_features(text,feature_words), party) for (text, party) in convention_data]"
   ]
  },
  {
   "cell_type": "code",
   "execution_count": null,
   "metadata": {},
   "outputs": [],
   "source": [
    "random.seed(20220507)\n",
    "random.shuffle(featuresets)\n",
    "\n",
    "test_size = 500"
   ]
  },
  {
   "cell_type": "code",
   "execution_count": null,
   "metadata": {},
   "outputs": [],
   "source": [
    "test_set, train_set = featuresets[:test_size], featuresets[test_size:]\n",
    "classifier = nltk.NaiveBayesClassifier.train(train_set)\n",
    "print(nltk.classify.accuracy(classifier, test_set))"
   ]
  },
  {
   "cell_type": "code",
   "execution_count": null,
   "metadata": {},
   "outputs": [],
   "source": [
    "classifier.show_most_informative_features(25)"
   ]
  },
  {
   "cell_type": "markdown",
   "metadata": {},
   "source": [
    "Write a little prose here about what you see in the classifier. Anything odd or interesting?\n",
    "\n",
    "### My Observations\n",
    "\n",
    "_Your observations to come._\n",
    "\n"
   ]
  },
  {
   "cell_type": "markdown",
   "metadata": {},
   "source": [
    "## Part 2: Classifying Congressional Tweets\n",
    "\n",
    "In this part we apply the classifer we just built to a set of tweets by people running for congress\n",
    "in 2018. These tweets are stored in the database `congressional_data.db`. That DB is funky, so I'll\n",
    "give you the query I used to pull out the tweets. Note that this DB has some big tables and \n",
    "is unindexed, so the query takes a minute or two to run on my machine."
   ]
  },
  {
   "cell_type": "code",
   "execution_count": 20,
   "metadata": {},
   "outputs": [],
   "source": [
    "cong_db = sqlite3.connect(\"congressional_data.db\")\n",
    "cong_cur = cong_db.cursor()"
   ]
  },
  {
   "cell_type": "code",
   "execution_count": 21,
   "metadata": {},
   "outputs": [
    {
     "name": "stdout",
     "output_type": "stream",
     "text": [
      "[('websites',), ('candidate_data',), ('tweets',)]\n"
     ]
    }
   ],
   "source": [
    "cong_cur.execute(\"SELECT name FROM sqlite_master WHERE type='table';\")\n",
    "print(cong_cur.fetchall())"
   ]
  },
  {
   "cell_type": "code",
   "execution_count": 22,
   "metadata": {},
   "outputs": [],
   "source": [
    "results = cong_cur.execute(\n",
    "        '''\n",
    "           SELECT DISTINCT \n",
    "                  cd.candidate, \n",
    "                  cd.party,\n",
    "                  tw.tweet_text\n",
    "           FROM candidate_data cd \n",
    "           INNER JOIN tweets tw ON cd.twitter_handle = tw.handle \n",
    "               AND cd.candidate == tw.candidate \n",
    "               AND cd.district == tw.district\n",
    "           WHERE cd.party in ('Republican','Democratic') \n",
    "               AND tw.tweet_text NOT LIKE '%RT%'\n",
    "        ''')\n",
    "\n",
    "results = list(results) # Just to store it, since the query is time consuming"
   ]
  },
  {
   "cell_type": "code",
   "execution_count": 26,
   "metadata": {},
   "outputs": [],
   "source": [
    "tweet_data = []\n",
    "\n",
    "# Now fill up tweet_data with sublists like we did on the convention speeches.\n",
    "# Note that this may take a bit of time, since we have a lot of tweets.\n",
    "for rowt in results :\n",
    "    tweet_data.append([rowt])"
   ]
  },
  {
   "cell_type": "markdown",
   "metadata": {},
   "source": [
    "There are a lot of tweets here. Let's take a random sample and see how our classifer does. I'm guessing it won't be too great given the performance on the convention speeches..."
   ]
  },
  {
   "cell_type": "code",
   "execution_count": 27,
   "metadata": {},
   "outputs": [],
   "source": [
    "random.seed(20201014)\n",
    "\n",
    "tweet_data_sample = random.choices(tweet_data,k=10)"
   ]
  },
  {
   "cell_type": "code",
   "execution_count": 28,
   "metadata": {},
   "outputs": [
    {
     "ename": "ValueError",
     "evalue": "not enough values to unpack (expected 2, got 1)",
     "output_type": "error",
     "traceback": [
      "\u001b[1;31m---------------------------------------------------------------------------\u001b[0m",
      "\u001b[1;31mValueError\u001b[0m                                Traceback (most recent call last)",
      "\u001b[1;32m<ipython-input-28-e42988ee3fac>\u001b[0m in \u001b[0;36m<module>\u001b[1;34m\u001b[0m\n\u001b[1;32m----> 1\u001b[1;33m \u001b[1;32mfor\u001b[0m \u001b[0mtweet\u001b[0m\u001b[1;33m,\u001b[0m \u001b[0mparty\u001b[0m \u001b[1;32min\u001b[0m \u001b[0mtweet_data_sample\u001b[0m \u001b[1;33m:\u001b[0m\u001b[1;33m\u001b[0m\u001b[1;33m\u001b[0m\u001b[0m\n\u001b[0m\u001b[0;32m      2\u001b[0m     \u001b[0mestimated_party\u001b[0m \u001b[1;33m=\u001b[0m \u001b[1;34m'Gotta fill this in'\u001b[0m\u001b[1;33m\u001b[0m\u001b[1;33m\u001b[0m\u001b[0m\n\u001b[0;32m      3\u001b[0m     \u001b[1;31m# Fill in the right-hand side above with code that estimates the actual party\u001b[0m\u001b[1;33m\u001b[0m\u001b[1;33m\u001b[0m\u001b[1;33m\u001b[0m\u001b[0m\n\u001b[0;32m      4\u001b[0m \u001b[1;33m\u001b[0m\u001b[0m\n\u001b[0;32m      5\u001b[0m     \u001b[0mprint\u001b[0m\u001b[1;33m(\u001b[0m\u001b[1;34mf\"Here's our (cleaned) tweet: {tweet}\"\u001b[0m\u001b[1;33m)\u001b[0m\u001b[1;33m\u001b[0m\u001b[1;33m\u001b[0m\u001b[0m\n",
      "\u001b[1;31mValueError\u001b[0m: not enough values to unpack (expected 2, got 1)"
     ]
    }
   ],
   "source": [
    "\n",
    "for tweet, party in tweet_data_sample :\n",
    "    estimated_party = 'Gotta fill this in'\n",
    "    # Fill in the right-hand side above with code that estimates the actual party\n",
    "    \n",
    "    print(f\"Here's our (cleaned) tweet: {tweet}\")\n",
    "    print(f\"Actual party is {party} and our classifer says {estimated_party}.\")\n",
    "    print(\"\")\n",
    "    "
   ]
  },
  {
   "cell_type": "markdown",
   "metadata": {},
   "source": [
    "Now that we've looked at it some, let's score a bunch and see how we're doing."
   ]
  },
  {
   "cell_type": "code",
   "execution_count": null,
   "metadata": {},
   "outputs": [],
   "source": [
    "# dictionary of counts by actual party and estimated party. \n",
    "# first key is actual, second is estimated\n",
    "parties = ['Republican','Democratic']\n",
    "results = defaultdict(lambda: defaultdict(int))\n",
    "\n",
    "for p in parties :\n",
    "    for p1 in parties :\n",
    "        results[p][p1] = 0\n",
    "\n",
    "\n",
    "num_to_score = 10000\n",
    "random.shuffle(tweet_data)\n",
    "\n",
    "for idx, tp in enumerate(tweet_data) :\n",
    "    tweet, party = tp    \n",
    "    # Now do the same thing as above, but we store the results rather\n",
    "    # than printing them. \n",
    "   \n",
    "    # get the estimated party\n",
    "    estimated_party = \"Gotta fill this in\"\n",
    "    \n",
    "    results[party][estimated_party] += 1\n",
    "    \n",
    "    if idx > num_to_score : \n",
    "        break"
   ]
  },
  {
   "cell_type": "code",
   "execution_count": null,
   "metadata": {},
   "outputs": [],
   "source": [
    "results"
   ]
  },
  {
   "cell_type": "markdown",
   "metadata": {},
   "source": [
    "### Reflections\n",
    "\n",
    "_Write a little about what you see in the results_ "
   ]
  }
 ],
 "metadata": {
  "kernelspec": {
   "display_name": "Python 3",
   "language": "python",
   "name": "python3"
  },
  "language_info": {
   "codemirror_mode": {
    "name": "ipython",
    "version": 3
   },
   "file_extension": ".py",
   "mimetype": "text/x-python",
   "name": "python",
   "nbconvert_exporter": "python",
   "pygments_lexer": "ipython3",
   "version": "3.7.3"
  }
 },
 "nbformat": 4,
 "nbformat_minor": 4
}
